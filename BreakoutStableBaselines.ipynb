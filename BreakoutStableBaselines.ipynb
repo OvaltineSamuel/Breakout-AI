{
 "cells": [
  {
   "cell_type": "markdown",
   "metadata": {},
   "source": [
    "Open Anaconda Prompt, then install & activate a new conda environment:\n",
    "\n",
    "conda create -n YOUR_ENV_NAME    #YOUR_ENV_NAME = AI_BREAKOUT_env\n",
    "\n",
    "conda env list\n",
    "\n",
    "conda activate YOUR_ENV_NAME\n",
    "\n",
    "conda search python\n",
    "\n",
    "conda install python==LASTEST_VERSION    #LASTEST_VERSION = 3.11.4\n",
    "\n",
    "conda install pytorch torchvision torchaudio pytorch-cuda=11.8 -c pytorch -c nvidia\n",
    "\n",
    "conda install jupyter\n",
    "\n",
    "pip install stable-baselines3[extra]"
   ]
  },
  {
   "cell_type": "code",
   "execution_count": 1,
   "metadata": {},
   "outputs": [
    {
     "name": "stdout",
     "output_type": "stream",
     "text": [
      "2.0.1\n",
      "True\n"
     ]
    }
   ],
   "source": [
    "import torch\n",
    "import torchvision\n",
    "print(torch.__version__)\n",
    "print(torch.cuda.is_available())"
   ]
  },
  {
   "cell_type": "code",
   "execution_count": 2,
   "metadata": {},
   "outputs": [],
   "source": [
    "import gymnasium as gym\n",
    "\n",
    "from stable_baselines3.common.env_util import make_atari_env\n",
    "from stable_baselines3.common.vec_env import VecFrameStack\n",
    "from stable_baselines3 import DQN"
   ]
  },
  {
   "cell_type": "markdown",
   "metadata": {},
   "source": [
    "Using Stable Baselines 3's [DQN Class][def]\n",
    "\n",
    "[def]: https://stable-baselines3.readthedocs.io/en/master/modules/dqn.html#stable_baselines3.dqn.DQN.learn"
   ]
  },
  {
   "cell_type": "code",
   "execution_count": 3,
   "metadata": {},
   "outputs": [],
   "source": [
    "seed = 42\n",
    "\n",
    "vec_env = make_atari_env(\"BreakoutNoFrameskip-v4\", n_envs=4, seed=seed)\n",
    "vec_env.metadata['render_fps'] = 30\n",
    "vec_env = VecFrameStack(vec_env, n_stack=4)"
   ]
  },
  {
   "cell_type": "code",
   "execution_count": 4,
   "metadata": {},
   "outputs": [
    {
     "name": "stdout",
     "output_type": "stream",
     "text": [
      "Using cuda device\n",
      "Wrapping the env in a VecTransposeImage.\n"
     ]
    }
   ],
   "source": [
    "policy = \"CnnPolicy\"\n",
    "learning_rate = 0.0001\n",
    "buffer_size = 500000\n",
    "learning_starts = 250000\n",
    "batch_size = 32\n",
    "tau = 1.0                       # soft update coefficient\n",
    "gamma = 0.99                    # discount factor\n",
    "train_freq = 4\n",
    "gradient_steps = 1\n",
    "target_update_interval = 1000\n",
    "exploration_fraction = 0.2\n",
    "exploration_initial_eps = 1.0\n",
    "exploration_final_eps = 0.01\n",
    "device = \"cuda\"                 # (CPU:\"CPU\", GPU:\"cuda\")\n",
    "\n",
    "model = DQN(policy=policy, env=vec_env,\n",
    "            learning_rate=learning_rate, buffer_size=buffer_size, \n",
    "            learning_starts=learning_starts, batch_size=batch_size,\n",
    "            tau=tau, gamma=gamma, \n",
    "            train_freq=train_freq, gradient_steps = gradient_steps,\n",
    "            target_update_interval=target_update_interval,\n",
    "            exploration_fraction=exploration_fraction, \n",
    "            exploration_initial_eps=exploration_initial_eps,\n",
    "            exploration_final_eps=exploration_final_eps,\n",
    "            verbose=1, device=device)"
   ]
  },
  {
   "cell_type": "code",
   "execution_count": null,
   "metadata": {},
   "outputs": [],
   "source": [
    "total_timesteps = 20000000\n",
    "log_interval = 1000\n",
    "\n",
    "model.learn(total_timesteps=total_timesteps, log_interval=log_interval, \n",
    "            progress_bar=True)\n",
    "model.save(\"dqn_breakout_11\")"
   ]
  },
  {
   "cell_type": "code",
   "execution_count": 5,
   "metadata": {},
   "outputs": [],
   "source": [
    "del model"
   ]
  },
  {
   "cell_type": "code",
   "execution_count": null,
   "metadata": {},
   "outputs": [],
   "source": [
    "model = DQN.load(\"dqn_breakout_01\")"
   ]
  },
  {
   "cell_type": "code",
   "execution_count": null,
   "metadata": {},
   "outputs": [],
   "source": [
    "obs = vec_env.reset()\n",
    "vec_env.metadata['render_fps_00'] = 30\n",
    "while True:\n",
    "    action, _states = model.predict(obs)\n",
    "    obs, rewards, dones, info = vec_env.step(action)\n",
    "    vec_env.render('human')"
   ]
  }
 ],
 "metadata": {
  "kernelspec": {
   "display_name": "BreakoutStableBaselines",
   "language": "python",
   "name": "python3"
  },
  "language_info": {
   "codemirror_mode": {
    "name": "ipython",
    "version": 3
   },
   "file_extension": ".py",
   "mimetype": "text/x-python",
   "name": "python",
   "nbconvert_exporter": "python",
   "pygments_lexer": "ipython3",
   "version": "3.11.4"
  },
  "orig_nbformat": 4
 },
 "nbformat": 4,
 "nbformat_minor": 2
}
